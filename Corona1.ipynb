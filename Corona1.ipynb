{
 "cells": [
  {
   "cell_type": "code",
   "execution_count": 2,
   "metadata": {},
   "outputs": [],
   "source": [
    "POPULATION = 130000\n",
    "num_days = 300\n",
    "num_recovered = 0\n",
    "prob_contact = 0.2\n",
    "prob_recovery = 1/14"
   ]
  },
  {
   "cell_type": "code",
   "execution_count": 3,
   "metadata": {},
   "outputs": [],
   "source": [
    "import numpy as np\n",
    "import matplotlib.pyplot as plt"
   ]
  },
  {
   "cell_type": "code",
   "execution_count": 4,
   "metadata": {},
   "outputs": [],
   "source": [
    "def simulate_spread(infected, recovered, num_days, prob_contact):\n",
    "    susceptible = POPULATION - infected - recovered\n",
    "    days = np.array(range(num_days))\n",
    "    sir_data = np.zeros((num_days, 3))\n",
    "    for index in range(num_days):\n",
    "        new_recoveries = infected * prob_recovery\n",
    "        new_infections = prob_contact * (infected/POPULATION) * susceptible\n",
    "        recovered = recovered + new_recoveries\n",
    "        if recovered > POPULATION: \n",
    "            recovered = POPULATION\n",
    "        infected = infected + new_infections - new_recoveries\n",
    "        num_susceptible = POPULATION - recovered - infected\n",
    "        sir_data[index, :] = [num_susceptible, infected, num_recovered]\n",
    "    return days,sir_data\n"
   ]
  },
  {
   "cell_type": "code",
   "execution_count": 5,
   "metadata": {},
   "outputs": [],
   "source": [
    "days_1, sir_data_1 = simulate_spread(4, 0, 30, 0.4)\n",
    "num_infected = sir_data_1[-1, 1]\n",
    "num_recovered = sir_data_1[-1, 2]\n",
    "days_2, sir_data_2 = simulate_spread (num_infected, num_recovered, 300, 0.15)"
   ]
  },
  {
   "cell_type": "code",
   "execution_count": 6,
   "metadata": {},
   "outputs": [],
   "source": [
    "days = np.array(range(330))\n",
    "sir_data = np.concatenate((sir_data_1, sir_data_2))"
   ]
  },
  {
   "cell_type": "code",
   "execution_count": 7,
   "metadata": {},
   "outputs": [
    {
     "data": {
      "image/png": "[encoded data removed]",
      "text/plain": [
       "<Figure size 432x288 with 1 Axes>"
      ]
     },
     "metadata": {
      "needs_background": "light"
     },
     "output_type": "display_data"
    }
   ],
   "source": [
    "fig = plt.figure()\n",
    "ax = fig.add_subplot(111)\n",
    "ax.plot(days, sir_data[:,0], 'b', label = 'susceptible')\n",
    "ax.plot(days, sir_data[:,1], 'r', label = 'infected')\n",
    "ax.plot(days, sir_data[:,2], 'g', label = 'recovered')\n",
    "ax.set_xlabel(\"Days\")\n",
    "ax.set_ylabel(\"Number of People\")\n",
    "legend = ax.legend()\n",
    "plt.show()\n"
   ]
  },
  {
   "cell_type": "code",
   "execution_count": 8,
   "metadata": {},
   "outputs": [],
   "source": [
    "critical_data = np.zeros(num_days)\n",
    "critical_data = sir_data[:,1] * 0.05"
   ]
  },
  {
   "cell_type": "code",
   "execution_count": 9,
   "metadata": {},
   "outputs": [
    {
     "data": {
      "text/plain": [
       "10546059436.833448"
      ]
     },
     "execution_count": 9,
     "metadata": {},
     "output_type": "execute_result"
    }
   ],
   "source": [
    "np.max(critical_data)"
   ]
  },
  {
   "cell_type": "code",
   "execution_count": null,
   "metadata": {},
   "outputs": [],
   "source": []
  }
 ],
 "metadata": {
  "kernelspec": {
   "display_name": "Python 3",
   "language": "python",
   "name": "python3"
  },
  "language_info": {
   "codemirror_mode": {
    "name": "ipython",
    "version": 3
   },
   "file_extension": ".py",
   "mimetype": "text/x-python",
   "name": "python",
   "nbconvert_exporter": "python",
   "pygments_lexer": "ipython3",
   "version": "3.7.6"
  }
 },
 "nbformat": 4,
 "nbformat_minor": 4
}
